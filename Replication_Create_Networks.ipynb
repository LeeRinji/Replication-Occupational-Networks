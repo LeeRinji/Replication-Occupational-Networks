{
  "nbformat": 4,
  "nbformat_minor": 0,
  "metadata": {
    "colab": {
      "provenance": [],
      "authorship_tag": "ABX9TyPPzatWDKuD0I/HjnTet6F3",
      "include_colab_link": true
    },
    "kernelspec": {
      "name": "python3",
      "display_name": "Python 3"
    },
    "language_info": {
      "name": "python"
    }
  },
  "cells": [
    {
      "cell_type": "markdown",
      "metadata": {
        "id": "view-in-github",
        "colab_type": "text"
      },
      "source": [
        "<a href=\"https://colab.research.google.com/github/LeeRinji/Replication-Occupational-Networks/blob/main/Replication_Create_Networks.ipynb\" target=\"_parent\"><img src=\"https://colab.research.google.com/assets/colab-badge.svg\" alt=\"Open In Colab\"/></a>"
      ]
    },
    {
      "cell_type": "markdown",
      "source": [
        "# **Import Packages and Data**"
      ],
      "metadata": {
        "id": "clGm1s2Xw9yC"
      }
    },
    {
      "cell_type": "code",
      "execution_count": null,
      "metadata": {
        "id": "NE8Ptnkgw5RR"
      },
      "outputs": [],
      "source": [
        "import pandas as pd\n",
        "import requests\n",
        "import csv\n",
        "import numpy\n",
        "import re\n",
        "import time\n",
        "import random\n",
        "import json\n",
        "from bs4 import BeautifulSoup\n",
        "import networkx as nx"
      ]
    },
    {
      "cell_type": "code",
      "source": [
        "from google.colab import drive\n",
        "drive.mount('/content/gdrive')"
      ],
      "metadata": {
        "id": "rYGQEOeF3tFe"
      },
      "execution_count": null,
      "outputs": []
    },
    {
      "cell_type": "markdown",
      "source": [
        "# **Read Data**"
      ],
      "metadata": {
        "id": "vbbPQiUO3uW9"
      }
    },
    {
      "cell_type": "markdown",
      "source": [
        "# **Create Occupational Networks**"
      ],
      "metadata": {
        "id": "m49I27aY3wcx"
      }
    }
  ]
}