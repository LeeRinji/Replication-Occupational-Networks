{
  "nbformat": 4,
  "nbformat_minor": 0,
  "metadata": {
    "colab": {
      "provenance": [],
      "authorship_tag": "ABX9TyMjXXs5I0s4lYz1trGkt2Ra",
      "include_colab_link": true
    },
    "kernelspec": {
      "name": "python3",
      "display_name": "Python 3"
    },
    "language_info": {
      "name": "python"
    }
  },
  "cells": [
    {
      "cell_type": "markdown",
      "metadata": {
        "id": "view-in-github",
        "colab_type": "text"
      },
      "source": [
        "<a href=\"https://colab.research.google.com/github/LeeRinji/Replication-Occupational-Networks/blob/main/Read_Data_CPS.ipynb\" target=\"_parent\"><img src=\"https://colab.research.google.com/assets/colab-badge.svg\" alt=\"Open In Colab\"/></a>"
      ]
    },
    {
      "cell_type": "markdown",
      "source": [
        "# **Import Packages and Data**"
      ],
      "metadata": {
        "id": "2BnlbpiSdm1F"
      }
    },
    {
      "cell_type": "code",
      "execution_count": 1,
      "metadata": {
        "id": "j4O4UqqgdcIZ"
      },
      "outputs": [],
      "source": [
        "import requests\n",
        "import csv\n",
        "import numpy\n",
        "import re\n",
        "import time\n",
        "import random\n",
        "import json\n",
        "from bs4 import BeautifulSoup\n",
        "import pandas as pd\n",
        "import numpy as np"
      ]
    },
    {
      "cell_type": "code",
      "source": [
        "from google.colab import drive\n",
        "drive.mount('/content/gdrive')"
      ],
      "metadata": {
        "colab": {
          "base_uri": "https://localhost:8080/"
        },
        "id": "nlGNxPrmduxJ",
        "outputId": "524cfff5-e50c-4ec4-c4c7-e4d4da1e9d18"
      },
      "execution_count": 2,
      "outputs": [
        {
          "output_type": "stream",
          "name": "stdout",
          "text": [
            "Mounted at /content/gdrive\n"
          ]
        }
      ]
    },
    {
      "cell_type": "markdown",
      "source": [
        "# **Read Recent CSV Format Data**"
      ],
      "metadata": {
        "id": "dWmQiIUyvxOu"
      }
    },
    {
      "cell_type": "code",
      "source": [
        "df_test=pd.read_csv(\"/content/gdrive/MyDrive/Avail_Data/pppub22.csv\")"
      ],
      "metadata": {
        "id": "8mbY-HHLdyVx"
      },
      "execution_count": 3,
      "outputs": []
    },
    {
      "cell_type": "code",
      "source": [
        "df_test"
      ],
      "metadata": {
        "colab": {
          "base_uri": "https://localhost:8080/",
          "height": 424
        },
        "id": "zjfe-cv5eA2c",
        "outputId": "97d3af22-d19b-4665-9c78-1cf15181d3f6"
      },
      "execution_count": 4,
      "outputs": [
        {
          "output_type": "execute_result",
          "data": {
            "text/plain": [
              "                      PERIDNUM  PH_SEQ  P_SEQ  A_LINENO  PF_SEQ  PHF_SEQ  \\\n",
              "0       2022093493100051201101       1      1         1       1        1   \n",
              "1       2100059324402431401101       5      1         1       1        1   \n",
              "2       2100059324402431401102       5      2         2       1        1   \n",
              "3       1410320300869091411101       6      1         1       1        1   \n",
              "4       1410320300869091411102       6      2         2       1        1   \n",
              "...                        ...     ...    ...       ...     ...      ...   \n",
              "152727  1102030217034551411102   89197      2         2       1        1   \n",
              "152728  1102030217034551411103   89197      3         3       1        1   \n",
              "152729  1102030217034551411104   89197      4         4       1        1   \n",
              "152730  1102030217034551411105   89197      5         5       1        1   \n",
              "152731  1102030217034551411106   89197      6         6       1        1   \n",
              "\n",
              "        OED_TYP1  OED_TYP2  OED_TYP3  PERRP  ...  I_DISVL1  I_DISVL2  \\\n",
              "0              0         0         0     41  ...         0         0   \n",
              "1              0         0         0     40  ...         0         0   \n",
              "2              0         0         0     42  ...         0         0   \n",
              "3              0         0         0     40  ...         0         0   \n",
              "4              0         0         0     42  ...         0         0   \n",
              "...          ...       ...       ...    ...  ...       ...       ...   \n",
              "152727         0         0         0     42  ...         0         0   \n",
              "152728         0         0         0     48  ...         0         0   \n",
              "152729         0         0         0     48  ...         0         0   \n",
              "152730         0         0         0     48  ...         0         0   \n",
              "152731         0         0         0     48  ...         0         0   \n",
              "\n",
              "        I_SURVL1  I_SURVL2  MIG_CBST  MIG_DSCP  DEP_STAT  FILEDATE  FILESTAT  \\\n",
              "0              0         0         0         0         0     72522         5   \n",
              "1              0         0         0         0         0     72522         1   \n",
              "2              0         0         0         0         0     72522         1   \n",
              "3              0         0         0         0         0     72522         1   \n",
              "4              0         0         0         0         0     72522         1   \n",
              "...          ...       ...       ...       ...       ...       ...       ...   \n",
              "152727         0         0         0         0         0     72522         1   \n",
              "152728         0         0         0         0         1     72522         6   \n",
              "152729         0         0         0         0         1     72522         6   \n",
              "152730         0         0         0         0         1     72522         6   \n",
              "152731         0         0         0         0         1     72522         6   \n",
              "\n",
              "        YYYYMM  \n",
              "0       202203  \n",
              "1       202203  \n",
              "2       202203  \n",
              "3       202203  \n",
              "4       202203  \n",
              "...        ...  \n",
              "152727  202203  \n",
              "152728  202203  \n",
              "152729  202203  \n",
              "152730  202203  \n",
              "152731  202203  \n",
              "\n",
              "[152732 rows x 832 columns]"
            ],
            "text/html": [
              "\n",
              "  <div id=\"df-b038da77-0475-4baf-b4f1-594e0ba5f040\">\n",
              "    <div class=\"colab-df-container\">\n",
              "      <div>\n",
              "<style scoped>\n",
              "    .dataframe tbody tr th:only-of-type {\n",
              "        vertical-align: middle;\n",
              "    }\n",
              "\n",
              "    .dataframe tbody tr th {\n",
              "        vertical-align: top;\n",
              "    }\n",
              "\n",
              "    .dataframe thead th {\n",
              "        text-align: right;\n",
              "    }\n",
              "</style>\n",
              "<table border=\"1\" class=\"dataframe\">\n",
              "  <thead>\n",
              "    <tr style=\"text-align: right;\">\n",
              "      <th></th>\n",
              "      <th>PERIDNUM</th>\n",
              "      <th>PH_SEQ</th>\n",
              "      <th>P_SEQ</th>\n",
              "      <th>A_LINENO</th>\n",
              "      <th>PF_SEQ</th>\n",
              "      <th>PHF_SEQ</th>\n",
              "      <th>OED_TYP1</th>\n",
              "      <th>OED_TYP2</th>\n",
              "      <th>OED_TYP3</th>\n",
              "      <th>PERRP</th>\n",
              "      <th>...</th>\n",
              "      <th>I_DISVL1</th>\n",
              "      <th>I_DISVL2</th>\n",
              "      <th>I_SURVL1</th>\n",
              "      <th>I_SURVL2</th>\n",
              "      <th>MIG_CBST</th>\n",
              "      <th>MIG_DSCP</th>\n",
              "      <th>DEP_STAT</th>\n",
              "      <th>FILEDATE</th>\n",
              "      <th>FILESTAT</th>\n",
              "      <th>YYYYMM</th>\n",
              "    </tr>\n",
              "  </thead>\n",
              "  <tbody>\n",
              "    <tr>\n",
              "      <th>0</th>\n",
              "      <td>2022093493100051201101</td>\n",
              "      <td>1</td>\n",
              "      <td>1</td>\n",
              "      <td>1</td>\n",
              "      <td>1</td>\n",
              "      <td>1</td>\n",
              "      <td>0</td>\n",
              "      <td>0</td>\n",
              "      <td>0</td>\n",
              "      <td>41</td>\n",
              "      <td>...</td>\n",
              "      <td>0</td>\n",
              "      <td>0</td>\n",
              "      <td>0</td>\n",
              "      <td>0</td>\n",
              "      <td>0</td>\n",
              "      <td>0</td>\n",
              "      <td>0</td>\n",
              "      <td>72522</td>\n",
              "      <td>5</td>\n",
              "      <td>202203</td>\n",
              "    </tr>\n",
              "    <tr>\n",
              "      <th>1</th>\n",
              "      <td>2100059324402431401101</td>\n",
              "      <td>5</td>\n",
              "      <td>1</td>\n",
              "      <td>1</td>\n",
              "      <td>1</td>\n",
              "      <td>1</td>\n",
              "      <td>0</td>\n",
              "      <td>0</td>\n",
              "      <td>0</td>\n",
              "      <td>40</td>\n",
              "      <td>...</td>\n",
              "      <td>0</td>\n",
              "      <td>0</td>\n",
              "      <td>0</td>\n",
              "      <td>0</td>\n",
              "      <td>0</td>\n",
              "      <td>0</td>\n",
              "      <td>0</td>\n",
              "      <td>72522</td>\n",
              "      <td>1</td>\n",
              "      <td>202203</td>\n",
              "    </tr>\n",
              "    <tr>\n",
              "      <th>2</th>\n",
              "      <td>2100059324402431401102</td>\n",
              "      <td>5</td>\n",
              "      <td>2</td>\n",
              "      <td>2</td>\n",
              "      <td>1</td>\n",
              "      <td>1</td>\n",
              "      <td>0</td>\n",
              "      <td>0</td>\n",
              "      <td>0</td>\n",
              "      <td>42</td>\n",
              "      <td>...</td>\n",
              "      <td>0</td>\n",
              "      <td>0</td>\n",
              "      <td>0</td>\n",
              "      <td>0</td>\n",
              "      <td>0</td>\n",
              "      <td>0</td>\n",
              "      <td>0</td>\n",
              "      <td>72522</td>\n",
              "      <td>1</td>\n",
              "      <td>202203</td>\n",
              "    </tr>\n",
              "    <tr>\n",
              "      <th>3</th>\n",
              "      <td>1410320300869091411101</td>\n",
              "      <td>6</td>\n",
              "      <td>1</td>\n",
              "      <td>1</td>\n",
              "      <td>1</td>\n",
              "      <td>1</td>\n",
              "      <td>0</td>\n",
              "      <td>0</td>\n",
              "      <td>0</td>\n",
              "      <td>40</td>\n",
              "      <td>...</td>\n",
              "      <td>0</td>\n",
              "      <td>0</td>\n",
              "      <td>0</td>\n",
              "      <td>0</td>\n",
              "      <td>0</td>\n",
              "      <td>0</td>\n",
              "      <td>0</td>\n",
              "      <td>72522</td>\n",
              "      <td>1</td>\n",
              "      <td>202203</td>\n",
              "    </tr>\n",
              "    <tr>\n",
              "      <th>4</th>\n",
              "      <td>1410320300869091411102</td>\n",
              "      <td>6</td>\n",
              "      <td>2</td>\n",
              "      <td>2</td>\n",
              "      <td>1</td>\n",
              "      <td>1</td>\n",
              "      <td>0</td>\n",
              "      <td>0</td>\n",
              "      <td>0</td>\n",
              "      <td>42</td>\n",
              "      <td>...</td>\n",
              "      <td>0</td>\n",
              "      <td>0</td>\n",
              "      <td>0</td>\n",
              "      <td>0</td>\n",
              "      <td>0</td>\n",
              "      <td>0</td>\n",
              "      <td>0</td>\n",
              "      <td>72522</td>\n",
              "      <td>1</td>\n",
              "      <td>202203</td>\n",
              "    </tr>\n",
              "    <tr>\n",
              "      <th>...</th>\n",
              "      <td>...</td>\n",
              "      <td>...</td>\n",
              "      <td>...</td>\n",
              "      <td>...</td>\n",
              "      <td>...</td>\n",
              "      <td>...</td>\n",
              "      <td>...</td>\n",
              "      <td>...</td>\n",
              "      <td>...</td>\n",
              "      <td>...</td>\n",
              "      <td>...</td>\n",
              "      <td>...</td>\n",
              "      <td>...</td>\n",
              "      <td>...</td>\n",
              "      <td>...</td>\n",
              "      <td>...</td>\n",
              "      <td>...</td>\n",
              "      <td>...</td>\n",
              "      <td>...</td>\n",
              "      <td>...</td>\n",
              "      <td>...</td>\n",
              "    </tr>\n",
              "    <tr>\n",
              "      <th>152727</th>\n",
              "      <td>1102030217034551411102</td>\n",
              "      <td>89197</td>\n",
              "      <td>2</td>\n",
              "      <td>2</td>\n",
              "      <td>1</td>\n",
              "      <td>1</td>\n",
              "      <td>0</td>\n",
              "      <td>0</td>\n",
              "      <td>0</td>\n",
              "      <td>42</td>\n",
              "      <td>...</td>\n",
              "      <td>0</td>\n",
              "      <td>0</td>\n",
              "      <td>0</td>\n",
              "      <td>0</td>\n",
              "      <td>0</td>\n",
              "      <td>0</td>\n",
              "      <td>0</td>\n",
              "      <td>72522</td>\n",
              "      <td>1</td>\n",
              "      <td>202203</td>\n",
              "    </tr>\n",
              "    <tr>\n",
              "      <th>152728</th>\n",
              "      <td>1102030217034551411103</td>\n",
              "      <td>89197</td>\n",
              "      <td>3</td>\n",
              "      <td>3</td>\n",
              "      <td>1</td>\n",
              "      <td>1</td>\n",
              "      <td>0</td>\n",
              "      <td>0</td>\n",
              "      <td>0</td>\n",
              "      <td>48</td>\n",
              "      <td>...</td>\n",
              "      <td>0</td>\n",
              "      <td>0</td>\n",
              "      <td>0</td>\n",
              "      <td>0</td>\n",
              "      <td>0</td>\n",
              "      <td>0</td>\n",
              "      <td>1</td>\n",
              "      <td>72522</td>\n",
              "      <td>6</td>\n",
              "      <td>202203</td>\n",
              "    </tr>\n",
              "    <tr>\n",
              "      <th>152729</th>\n",
              "      <td>1102030217034551411104</td>\n",
              "      <td>89197</td>\n",
              "      <td>4</td>\n",
              "      <td>4</td>\n",
              "      <td>1</td>\n",
              "      <td>1</td>\n",
              "      <td>0</td>\n",
              "      <td>0</td>\n",
              "      <td>0</td>\n",
              "      <td>48</td>\n",
              "      <td>...</td>\n",
              "      <td>0</td>\n",
              "      <td>0</td>\n",
              "      <td>0</td>\n",
              "      <td>0</td>\n",
              "      <td>0</td>\n",
              "      <td>0</td>\n",
              "      <td>1</td>\n",
              "      <td>72522</td>\n",
              "      <td>6</td>\n",
              "      <td>202203</td>\n",
              "    </tr>\n",
              "    <tr>\n",
              "      <th>152730</th>\n",
              "      <td>1102030217034551411105</td>\n",
              "      <td>89197</td>\n",
              "      <td>5</td>\n",
              "      <td>5</td>\n",
              "      <td>1</td>\n",
              "      <td>1</td>\n",
              "      <td>0</td>\n",
              "      <td>0</td>\n",
              "      <td>0</td>\n",
              "      <td>48</td>\n",
              "      <td>...</td>\n",
              "      <td>0</td>\n",
              "      <td>0</td>\n",
              "      <td>0</td>\n",
              "      <td>0</td>\n",
              "      <td>0</td>\n",
              "      <td>0</td>\n",
              "      <td>1</td>\n",
              "      <td>72522</td>\n",
              "      <td>6</td>\n",
              "      <td>202203</td>\n",
              "    </tr>\n",
              "    <tr>\n",
              "      <th>152731</th>\n",
              "      <td>1102030217034551411106</td>\n",
              "      <td>89197</td>\n",
              "      <td>6</td>\n",
              "      <td>6</td>\n",
              "      <td>1</td>\n",
              "      <td>1</td>\n",
              "      <td>0</td>\n",
              "      <td>0</td>\n",
              "      <td>0</td>\n",
              "      <td>48</td>\n",
              "      <td>...</td>\n",
              "      <td>0</td>\n",
              "      <td>0</td>\n",
              "      <td>0</td>\n",
              "      <td>0</td>\n",
              "      <td>0</td>\n",
              "      <td>0</td>\n",
              "      <td>1</td>\n",
              "      <td>72522</td>\n",
              "      <td>6</td>\n",
              "      <td>202203</td>\n",
              "    </tr>\n",
              "  </tbody>\n",
              "</table>\n",
              "<p>152732 rows × 832 columns</p>\n",
              "</div>\n",
              "      <button class=\"colab-df-convert\" onclick=\"convertToInteractive('df-b038da77-0475-4baf-b4f1-594e0ba5f040')\"\n",
              "              title=\"Convert this dataframe to an interactive table.\"\n",
              "              style=\"display:none;\">\n",
              "        \n",
              "  <svg xmlns=\"http://www.w3.org/2000/svg\" height=\"24px\"viewBox=\"0 0 24 24\"\n",
              "       width=\"24px\">\n",
              "    <path d=\"M0 0h24v24H0V0z\" fill=\"none\"/>\n",
              "    <path d=\"M18.56 5.44l.94 2.06.94-2.06 2.06-.94-2.06-.94-.94-2.06-.94 2.06-2.06.94zm-11 1L8.5 8.5l.94-2.06 2.06-.94-2.06-.94L8.5 2.5l-.94 2.06-2.06.94zm10 10l.94 2.06.94-2.06 2.06-.94-2.06-.94-.94-2.06-.94 2.06-2.06.94z\"/><path d=\"M17.41 7.96l-1.37-1.37c-.4-.4-.92-.59-1.43-.59-.52 0-1.04.2-1.43.59L10.3 9.45l-7.72 7.72c-.78.78-.78 2.05 0 2.83L4 21.41c.39.39.9.59 1.41.59.51 0 1.02-.2 1.41-.59l7.78-7.78 2.81-2.81c.8-.78.8-2.07 0-2.86zM5.41 20L4 18.59l7.72-7.72 1.47 1.35L5.41 20z\"/>\n",
              "  </svg>\n",
              "      </button>\n",
              "      \n",
              "  <style>\n",
              "    .colab-df-container {\n",
              "      display:flex;\n",
              "      flex-wrap:wrap;\n",
              "      gap: 12px;\n",
              "    }\n",
              "\n",
              "    .colab-df-convert {\n",
              "      background-color: #E8F0FE;\n",
              "      border: none;\n",
              "      border-radius: 50%;\n",
              "      cursor: pointer;\n",
              "      display: none;\n",
              "      fill: #1967D2;\n",
              "      height: 32px;\n",
              "      padding: 0 0 0 0;\n",
              "      width: 32px;\n",
              "    }\n",
              "\n",
              "    .colab-df-convert:hover {\n",
              "      background-color: #E2EBFA;\n",
              "      box-shadow: 0px 1px 2px rgba(60, 64, 67, 0.3), 0px 1px 3px 1px rgba(60, 64, 67, 0.15);\n",
              "      fill: #174EA6;\n",
              "    }\n",
              "\n",
              "    [theme=dark] .colab-df-convert {\n",
              "      background-color: #3B4455;\n",
              "      fill: #D2E3FC;\n",
              "    }\n",
              "\n",
              "    [theme=dark] .colab-df-convert:hover {\n",
              "      background-color: #434B5C;\n",
              "      box-shadow: 0px 1px 3px 1px rgba(0, 0, 0, 0.15);\n",
              "      filter: drop-shadow(0px 1px 2px rgba(0, 0, 0, 0.3));\n",
              "      fill: #FFFFFF;\n",
              "    }\n",
              "  </style>\n",
              "\n",
              "      <script>\n",
              "        const buttonEl =\n",
              "          document.querySelector('#df-b038da77-0475-4baf-b4f1-594e0ba5f040 button.colab-df-convert');\n",
              "        buttonEl.style.display =\n",
              "          google.colab.kernel.accessAllowed ? 'block' : 'none';\n",
              "\n",
              "        async function convertToInteractive(key) {\n",
              "          const element = document.querySelector('#df-b038da77-0475-4baf-b4f1-594e0ba5f040');\n",
              "          const dataTable =\n",
              "            await google.colab.kernel.invokeFunction('convertToInteractive',\n",
              "                                                     [key], {});\n",
              "          if (!dataTable) return;\n",
              "\n",
              "          const docLinkHtml = 'Like what you see? Visit the ' +\n",
              "            '<a target=\"_blank\" href=https://colab.research.google.com/notebooks/data_table.ipynb>data table notebook</a>'\n",
              "            + ' to learn more about interactive tables.';\n",
              "          element.innerHTML = '';\n",
              "          dataTable['output_type'] = 'display_data';\n",
              "          await google.colab.output.renderOutput(dataTable, element);\n",
              "          const docLink = document.createElement('div');\n",
              "          docLink.innerHTML = docLinkHtml;\n",
              "          element.appendChild(docLink);\n",
              "        }\n",
              "      </script>\n",
              "    </div>\n",
              "  </div>\n",
              "  "
            ]
          },
          "metadata": {},
          "execution_count": 4
        }
      ]
    },
    {
      "cell_type": "code",
      "source": [
        "col_names=df_test.columns.to_list()"
      ],
      "metadata": {
        "id": "Cd3JAEM8eGrT"
      },
      "execution_count": 6,
      "outputs": []
    },
    {
      "cell_type": "markdown",
      "source": [
        "# **Read Previous ASCII Data File**"
      ],
      "metadata": {
        "id": "_bTFJ8Asv2TD"
      }
    },
    {
      "cell_type": "code",
      "source": [
        "with open(\"/content/gdrive/MyDrive/Avail_Data/mar98pub.cps\",'r') as f:\n",
        "  df_raw_98=f.read()"
      ],
      "metadata": {
        "id": "YIJevVb1YjY-"
      },
      "execution_count": 10,
      "outputs": []
    },
    {
      "cell_type": "code",
      "source": [
        "df_raw_98[:1000]"
      ],
      "metadata": {
        "colab": {
          "base_uri": "https://localhost:8080/",
          "height": 90
        },
        "id": "QE6qRiPKZVms",
        "outputId": "adb24e8f-01ea-4dcd-bdad-087d8375901a"
      },
      "execution_count": 16,
      "outputs": [
        {
          "output_type": "execute_result",
          "data": {
            "text/plain": [
              "'163569002070000000010101703811010021011110064000000000221400020202000000022200000000200001003050020000000200000002000000020000000200000002000000200000020000000200000002000000020000000200000002000000020000000200000002000000020000000200000002000000000030500000305000000000013222120020900000093140000000000000000000000000000000000000000000000000726994491808233900000000000000000000000000000000000000000000000000000000000000000000000000000000000000000000000000000000000000000000000000000000000000000000000000000000000000000000000000000000000000000000000000000000000000000000000000000000000000000000000000000000000000000000000000000000000000000000000000000000000000000000000000000000000000000000000000000000000000000000000000000000000000000000000000000000000000000000000000000000000000000000000000000000000000000000000000000000000000000000000000000000000000\\n263569013201010000000101000000008350411000000010030500200000002000000020000000200000002000000020000002000000200000002000000020000000200000002000000'"
            ],
            "application/vnd.google.colaboratory.intrinsic+json": {
              "type": "string"
            }
          },
          "metadata": {},
          "execution_count": 16
        }
      ]
    },
    {
      "cell_type": "code",
      "source": [
        "records=df_raw_98.split('\\n')"
      ],
      "metadata": {
        "id": "ddJGebQYY3MI"
      },
      "execution_count": 17,
      "outputs": []
    },
    {
      "cell_type": "code",
      "source": [
        "len(records)"
      ],
      "metadata": {
        "colab": {
          "base_uri": "https://localhost:8080/"
        },
        "id": "HiCz1shoaviB",
        "outputId": "fc1dd8f5-894c-47da-913d-7101f9b42391"
      },
      "execution_count": 18,
      "outputs": [
        {
          "output_type": "execute_result",
          "data": {
            "text/plain": [
              "253045"
            ]
          },
          "metadata": {},
          "execution_count": 18
        }
      ]
    },
    {
      "cell_type": "markdown",
      "source": [
        "# **Data Transformation**"
      ],
      "metadata": {
        "id": "9oXlkVgUv6cy"
      }
    },
    {
      "cell_type": "code",
      "source": [
        "from collections import defaultdict\n",
        "records_len_dict=defaultdict(int)\n",
        "for item in records:\n",
        "  records_len_dict[len(item)]+=1\n",
        "print(records_len_dict)"
      ],
      "metadata": {
        "colab": {
          "base_uri": "https://localhost:8080/"
        },
        "id": "4laz0JX1ayOH",
        "outputId": "cecb31c5-33c4-4236-c35a-13ca0ba02fc9"
      },
      "execution_count": 20,
      "outputs": [
        {
          "output_type": "stream",
          "name": "stdout",
          "text": [
            "defaultdict(<class 'int'>, {852: 253044, 0: 1})\n"
          ]
        }
      ]
    },
    {
      "cell_type": "code",
      "source": [
        "records[-3]"
      ],
      "metadata": {
        "colab": {
          "base_uri": "https://localhost:8080/",
          "height": 90
        },
        "id": "WRSsY3wiwksg",
        "outputId": "d8a23b19-df91-4986-b6a2-ebe0e22b9eb1"
      },
      "execution_count": 21,
      "outputs": [
        {
          "output_type": "execute_result",
          "data": {
            "text/plain": [
              "'363068420200044710126430410801122202020100001010000113520000000000011153900000000000110000000000000000831315102000000000000000000000000000000000200021211016410523011000005230000001402200001831315011781152405401300140009090111610220001200000010220000000002000000000000200000020000000110210020000020000200000000200000000000200000000000000000000122000000000000000000002000000000000000000100975200000020000020000000002000002000002000000020000000025075000220000000030751114222111200000111110000200004000000000000000000000000000000000000000000000000000000000000000000000000000000000000000000000000000000000000000000000000000000000000000000000000000000000000026801000000000000000001683000000000000000000000000002005000420504004005705705700100000000030000110000022200000002220020000020000000000000000000000040000000000000000000000000000000000020000000000000000'"
            ],
            "application/vnd.google.colaboratory.intrinsic+json": {
              "type": "string"
            }
          },
          "metadata": {},
          "execution_count": 21
        }
      ]
    }
  ]
}