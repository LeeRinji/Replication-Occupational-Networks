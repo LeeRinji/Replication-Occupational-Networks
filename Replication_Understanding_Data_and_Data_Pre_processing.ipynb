{
  "nbformat": 4,
  "nbformat_minor": 0,
  "metadata": {
    "colab": {
      "provenance": [],
      "authorship_tag": "ABX9TyPM1QpH7f1DB1ALw7Qwi8xi",
      "include_colab_link": true
    },
    "kernelspec": {
      "name": "python3",
      "display_name": "Python 3"
    },
    "language_info": {
      "name": "python"
    }
  },
  "cells": [
    {
      "cell_type": "markdown",
      "metadata": {
        "id": "view-in-github",
        "colab_type": "text"
      },
      "source": [
        "<a href=\"https://colab.research.google.com/github/LeeRinji/Replication-Occupational-Networks/blob/main/Replication_Understanding_Data_and_Data_Pre_processing.ipynb\" target=\"_parent\"><img src=\"https://colab.research.google.com/assets/colab-badge.svg\" alt=\"Open In Colab\"/></a>"
      ]
    },
    {
      "cell_type": "markdown",
      "source": [
        "# **Import Packages and Dataset**"
      ],
      "metadata": {
        "id": "K6IT0Wm8ndmA"
      }
    },
    {
      "cell_type": "code",
      "execution_count": 1,
      "metadata": {
        "id": "JOM-o1yfnVuK"
      },
      "outputs": [],
      "source": [
        "import requests\n",
        "import csv\n",
        "import numpy\n",
        "import re\n",
        "import time\n",
        "import random\n",
        "import json\n",
        "from bs4 import BeautifulSoup\n",
        "import pandas as pd\n",
        "import numpy as np"
      ]
    },
    {
      "cell_type": "code",
      "source": [
        "from google.colab import drive\n",
        "drive.mount('/content/gdrive')"
      ],
      "metadata": {
        "colab": {
          "base_uri": "https://localhost:8080/"
        },
        "id": "ZuEOWHN2nkfk",
        "outputId": "6696c80e-86e9-449f-b229-1cf2fa53072f"
      },
      "execution_count": 2,
      "outputs": [
        {
          "output_type": "stream",
          "name": "stdout",
          "text": [
            "Mounted at /content/gdrive\n"
          ]
        }
      ]
    },
    {
      "cell_type": "markdown",
      "source": [
        "# **View the Data**"
      ],
      "metadata": {
        "id": "cEYuRKa_nk_y"
      }
    },
    {
      "cell_type": "code",
      "source": [],
      "metadata": {
        "id": "JCvvfkaIn3wR"
      },
      "execution_count": null,
      "outputs": []
    },
    {
      "cell_type": "markdown",
      "source": [
        "# **Data Cleaning**"
      ],
      "metadata": {
        "id": "HMIR-HKNnp54"
      }
    },
    {
      "cell_type": "code",
      "source": [
        "#Filter the data by year"
      ],
      "metadata": {
        "id": "ZxAj0ctcn4I2"
      },
      "execution_count": null,
      "outputs": []
    },
    {
      "cell_type": "code",
      "source": [
        "#Filter the data by respondents' age"
      ],
      "metadata": {
        "id": "Yvcd630FvEkh"
      },
      "execution_count": null,
      "outputs": []
    },
    {
      "cell_type": "markdown",
      "source": [
        "# **Data Pre-processing**"
      ],
      "metadata": {
        "id": "ZmaUWC6vn0do"
      }
    },
    {
      "cell_type": "code",
      "source": [
        "#Encoding the respondents' occupations again by information provided by the Appendix"
      ],
      "metadata": {
        "id": "CJWFwvoDn4jS"
      },
      "execution_count": null,
      "outputs": []
    }
  ]
}